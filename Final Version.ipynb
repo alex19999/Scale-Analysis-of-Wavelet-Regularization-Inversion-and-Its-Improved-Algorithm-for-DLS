{
 "cells": [
  {
   "cell_type": "code",
   "execution_count": 8,
   "metadata": {},
   "outputs": [],
   "source": [
    "import numpy as np\n",
    "import matplotlib.pyplot as plt\n",
    "import pandas as pd\n",
    "import sklearn.linear_model as sklm\n",
    "import pywt\n",
    "\n",
    "from scipy.fftpack import fft, fftfreq, ifft\n",
    "\n",
    "class Simulator:\n",
    "    \n",
    "    kb = 1.308064e-23 # Boltzmann constant\n",
    "    \n",
    "    def __init__(self):\n",
    "        pass\n",
    "    \n",
    "    def configure_experiment(self, \n",
    "                             lambda_lazer = 650e-9,\n",
    "                             temperature = 273.15,\n",
    "                             theta = np.pi / 3,\n",
    "                             n = 1.33,\n",
    "                             eta = 0.958e-3):\n",
    "        \n",
    "        self.lambda_lazer = lambda_lazer\n",
    "        self.temperature = temperature\n",
    "        self.theta = theta\n",
    "        self.n = n\n",
    "        self.eta = eta\n",
    "        \n",
    "        #Evaluate coefficient\n",
    "        self.coeff = 2*(Simulator.kb * self.temperature/(3 * np.pi * self.eta)) * (4 * np.pi * self.n / self.lambda_lazer)**2 * np.sin(self.theta / 2)**2\n",
    "    \n",
    "    \n",
    "    def get_lorentz(self, diameter, freq):\n",
    "        if diameter == 0:\n",
    "            raise ValueError('zero passed as a diameter')\n",
    "        \n",
    "        G = self.coeff / diameter\n",
    "        \n",
    "        # QUESTION: Do we really need (1 / pi) here?\n",
    "        return 1 / np.pi * G / ((2 * np.pi * freq)**2 + G**2)\n",
    "    \n",
    "\n",
    "    def generate(self,\n",
    "                 particle_diameters = np.array([100e-9]),\n",
    "                 noise_level = 0.0,\n",
    "                 time_series_size = 2**10,\n",
    "                 f_s = 8000,\n",
    "                 num_frequencies = 2**19 + 1):\n",
    "        \n",
    "        frequencies = np.linspace(0, f_s / 2, num_frequencies)\n",
    "        \n",
    "        initial_phases = np.random.uniform(0, 2 * np.pi, num_frequencies)\n",
    "        \n",
    "        time_series = np.linspace(0, time_series_size, time_series_size * f_s)\n",
    "        \n",
    "        ideal_lorentz = self.get_lorentz(particle_diameters[0], frequencies)\n",
    "        amplitudes = np.sqrt(ideal_lorentz)\n",
    "        \n",
    "        get_x_ti = lambda t: sum(amplitudes * np.sin(2 * np.pi * frequencies * t))\n",
    "        x_t = np.array(list(map(get_x_ti, time_series)))\n",
    "        \n",
    "        intensities = x_t**2\n",
    "        \n",
    "        return (intensities, time_series)\n",
    "        \n",
    "    \n",
    "\n",
    "    def run_simulation(self, \n",
    "                       particle_diameters = np.array([38e-9]),\n",
    "                       noise_level = 0.0,\n",
    "                       time_series_size = 2**10,\n",
    "                       f_generation = 50,\n",
    "                       max_freq_value = 5514.0,\n",
    "                       num_frequencies = 2**12):\n",
    "        \n",
    "        # x(t_i) = SUM_k^n [ sqrt(S(f_k)) * sin(2pi * f_k * t_i + phi_k)} ]\n",
    "        \n",
    "        # Generate @num_frequencies random frequencies uniformly distributed in the range [0, @max_freq_value]\n",
    "        random_frequencies = np.random.uniform(0, max_freq_value, num_frequencies)\n",
    "        \n",
    "        # Generate @num_frequencies random initial phases (phi_k) uniformly distributed in the range [0, 2pi]\n",
    "        initial_phases = np.random.uniform(0, 2 * np.pi, num_frequencies)\n",
    "        \n",
    "        # Create @time_series_size consecutive time values 0, 1, 2, ... , @time_series_size - 1\n",
    "        \n",
    "        time_series = np.linspace(0, time_series_size, time_series_size * f_generation)\n",
    "        \n",
    "        \n",
    "        # Ideal lorentz S(f) = S[d1](f) + ... + S[dN](f)\n",
    "        # Get an ideal amplitude SQRT(S(f)) for each random frequency (f_k) so as to obtain all SQRT[S(f_k)]\n",
    "        ideal_lorentz = sum([self.get_lorentz(d, random_frequencies) for d in particle_diameters])\n",
    "        ideal_amplitudes = np.sqrt(ideal_lorentz)\n",
    "        \n",
    "        \n",
    "        # Obtain x(time_series)\n",
    "        get_x_ti = lambda t: sum(ideal_amplitudes * np.sin(2 * np.pi * random_frequencies * t + initial_phases))\n",
    "        x_t = np.array(list(map(get_x_ti, time_series)))\n",
    "        \n",
    "        # Do normalization {x(t) - min(x(t))} so as to have positive (ala-experimental) values (refer to the article)\n",
    "        min_x_t = min(x_t)\n",
    "        x_t = x_t - min_x_t # FIXME: Due to peculiarity of calculations in CPU some values can be negative \n",
    "                            # (even though it has not happened yet)\n",
    "                            # By the fact, we get squares of these numbers for the final result\n",
    "        \n",
    "        \n",
    "        # Get experimental intesities: light intensity ~ (x_t)**2\n",
    "        experimental_intensities = x_t\n",
    "\n",
    "        \n",
    "        return (experimental_intensities, time_series)"
   ]
  },
  {
   "cell_type": "markdown",
   "metadata": {},
   "source": [
    "# Ideal Lorentz Generation"
   ]
  },
  {
   "cell_type": "code",
   "execution_count": 9,
   "metadata": {},
   "outputs": [
    {
     "data": {
      "text/plain": [
       "<matplotlib.legend.Legend at 0x7fd5296eb1d0>"
      ]
     },
     "execution_count": 9,
     "metadata": {},
     "output_type": "execute_result"
    },
    {
     "data": {
      "image/png": "[encoded data removed]",
      "text/plain": [
       "<Figure size 432x288 with 1 Axes>"
      ]
     },
     "metadata": {
      "needs_background": "light"
     },
     "output_type": "display_data"
    }
   ],
   "source": [
    "%matplotlib inline\n",
    "\n",
    "simulator = Simulator()\n",
    "simulator.configure_experiment()\n",
    "\n",
    "N_f = 2**12\n",
    "f_max = 2**10\n",
    "\n",
    "freqs = np.linspace(0, f_max, N_f)\n",
    "ideal_lorentz = simulator.get_lorentz(100e-9, freqs)\n",
    "\n",
    "fig, ax = plt.subplots()\n",
    "ax.plot(freqs, ideal_lorentz, label='Ideal lorentz')\n",
    "plt.legend()"
   ]
  },
  {
   "cell_type": "markdown",
   "metadata": {},
   "source": [
    "# Experimental Lorentz Generation"
   ]
  },
  {
   "cell_type": "code",
   "execution_count": 94,
   "metadata": {},
   "outputs": [
    {
     "data": {
      "text/plain": [
       "<matplotlib.legend.Legend at 0x7fd526205710>"
      ]
     },
     "execution_count": 94,
     "metadata": {},
     "output_type": "execute_result"
    },
    {
     "data": {
      "image/png": "[encoded data removed]",
      "text/plain": [
       "<Figure size 432x288 with 1 Axes>"
      ]
     },
     "metadata": {
      "needs_background": "light"
     },
     "output_type": "display_data"
    }
   ],
   "source": [
    "noise_level = 0.1\n",
    "\n",
    "exp_lorentz = np.array(list(map(lambda x: x * (1 + np.random.uniform(-noise_level, noise_level)), ideal_lorentz)))\n",
    "\n",
    "fig, ax = plt.subplots()\n",
    "ax.plot(freqs, exp_lorentz, label='Experimental')\n",
    "ax.plot(freqs, ideal_lorentz, label='Ideal')\n",
    "plt.legend()"
   ]
  },
  {
   "cell_type": "markdown",
   "metadata": {},
   "source": [
    "# WRIM "
   ]
  },
  {
   "cell_type": "code",
   "execution_count": 162,
   "metadata": {},
   "outputs": [
    {
     "data": {
      "text/plain": [
       "<matplotlib.legend.Legend at 0x7fd5189a4da0>"
      ]
     },
     "execution_count": 162,
     "metadata": {},
     "output_type": "execute_result"
    },
    {
     "data": {
      "image/png": "[encoded data removed]",
      "text/plain": [
       "<Figure size 432x288 with 1 Axes>"
      ]
     },
     "metadata": {
      "needs_background": "light"
     },
     "output_type": "display_data"
    }
   ],
   "source": [
    "%matplotlib inline\n",
    "import pywt\n",
    "import numpy as np\n",
    "import seaborn\n",
    "import pandas as pd\n",
    "from statsmodels.robust import mad\n",
    "def wrim(signal, level=0, wavelet='db1'):\n",
    "    # calculate the wavelet coefficients\n",
    "    coeff = pywt.wavedec( signal, wavelet, mode=\"per\", level=level)\n",
    "    # calculate a threshold\n",
    "    sigma = mad( coeff[-level] )\n",
    "    # changing this threshold also changes the behavior,\n",
    "    # but I have not played with this very much\n",
    "    uthresh = sigma * np.sqrt( 2*np.log( len( signal) ) ) \n",
    "    coeff[1:] = ( pywt.threshold( i, value=uthresh/100000000, mode='greater' ) for i in coeff[1:] )\n",
    "    # reconstruct the signal using the thresholded coefficients\n",
    "    y = pywt.waverec( coeff, wavelet)\n",
    "    \n",
    "    return y\n",
    "\n",
    "result_lorentz = wrim(exp_lorentz, level=4)\n",
    "\n",
    "fig, ax = plt.subplots()\n",
    "ax.plot(freqs, result_lorentz, label='Result')\n",
    "#ax.plot(freqs, exp_lorentz, label='Experiment')\n",
    "plt.legend()"
   ]
  },
  {
   "cell_type": "markdown",
   "metadata": {},
   "source": [
    "# Main Study "
   ]
  },
  {
   "cell_type": "code",
   "execution_count": 151,
   "metadata": {
    "scrolled": false
   },
   "outputs": [
    {
     "name": "stdout",
     "output_type": "stream",
     "text": [
      "1e-09 2e-06\n",
      "65.40784898479336\n",
      "1e-09 2e-06\n",
      "65.40784898479336\n"
     ]
    },
    {
     "data": {
      "image/png": "[encoded data removed]",
      "text/plain": [
       "<Figure size 432x288 with 1 Axes>"
      ]
     },
     "metadata": {
      "needs_background": "light"
     },
     "output_type": "display_data"
    },
    {
     "data": {
      "image/png": "[encoded data removed]",
      "text/plain": [
       "<Figure size 432x288 with 1 Axes>"
      ]
     },
     "metadata": {
      "needs_background": "light"
     },
     "output_type": "display_data"
    }
   ],
   "source": [
    "m = 2 # depth of decomposition \n",
    "count = 1 # iterator\n",
    "coeff = simulator.coeff\n",
    "\n",
    "# Initial interval\n",
    "d_min = 1e-9 # 1 нм\n",
    "d_max = 2000e-9\n",
    "\n",
    "# задаем сетку по Gamma\n",
    "G_min = coeff/d_max\n",
    "G_max = coeff/d_min\n",
    "N = 256*8 # Число узлов в сетке по \\Gamma\n",
    "M = len(freqs) # Число точек по частоте\n",
    "p = (G_max/G_min)**(1/(N-1))\n",
    "G = np.zeros(N)\n",
    "\n",
    "# неравнмерная сетка со сгущением к нулю (так как больщий вклад в интенсивность дают крупные частицы)\n",
    "# хотя такая сетка - это не единственно возможный вариант\n",
    "for j in range(N):\n",
    "    G[j] = G_min * (p**j)\n",
    "\n",
    "A = np.zeros((M,N))\n",
    "\n",
    "# Матрица коэффициентов (составляется по базисным ф-ям)\n",
    "for i in range(M):\n",
    "    for j in range(N):\n",
    "        A[i,j] = G[j] / ((2 * np.pi * freqs[i])**2 + G[j]**2)\n",
    "diam_poss = pd.DataFrame(columns=['d', 'p'])\n",
    "lorentz = exp_lorentz\n",
    "\n",
    "while count <= m:\n",
    "    new_lorentz = wrim(lorentz, count)\n",
    "    clf = sklm.Ridge(alpha = 5e-5)\n",
    "    clf.fit(A, new_lorentz)\n",
    "    a1 = clf.coef_\n",
    "    \n",
    "    clf.fit(A, ideal_lorentz)\n",
    "    a2 = clf.coef_\n",
    "\n",
    "    fig = plt.figure()\n",
    "    ax = plt.subplot(3, 1, 1)\n",
    "    line,  = plt.plot(1e+9 * coeff/G, a1,'.-')\n",
    "    line_, = plt.plot(1e+9 * coeff/G, a2, color='black')\n",
    "    ax.set_xscale('log')\n",
    "    plt.xlim(1, 2000)\n",
    "    \n",
    "    lorentz = new_lorentz\n",
    "    diam_poss['d'] = 1e+9 * coeff/G\n",
    "    diam_poss['p'] = a1\n",
    "    count += 1 \n",
    "    threshold = diam_poss['d'][diam_poss['p'] == diam_poss['p'].max()].values[0] / 2\n",
    "    #d_min = search_first_zero(diam_poss)[0]\n",
    "    #d_max = search_first_zero(diam_poss)[1]\n",
    "    print(d_min, d_max)\n",
    "    # задаем сетку по Gamma\n",
    "    G_min = coeff/d_max\n",
    "    print(G_min)\n",
    "    G_max = coeff/d_min\n",
    "    N = 256*8 # Число узлов в сетке по \\Gamma\n",
    "    M = len(freqs) # Число точек по частоте\n",
    "    p = (G_max/G_min)**(1/(N-1))\n",
    "    G = np.zeros(N)\n",
    "\n",
    "    for j in range(N):\n",
    "        G[j] = G_min * (p**j)\n",
    "\n",
    "    # вот равномерная сетка\n",
    "    #G = np.linspace(G_min, G_max, N)    \n",
    "\n",
    "    A = np.zeros((M,N))\n",
    "\n",
    "    # Матрица коэффициентов (составляется по базисным ф-ям)\n",
    "    for i in range(M):\n",
    "        for j in range(N):\n",
    "            A[i,j] = G[j] / ((2 * np.pi * freqs[i])**2 + G[j]**2)"
   ]
  },
  {
   "cell_type": "code",
   "execution_count": 152,
   "metadata": {},
   "outputs": [],
   "source": [
    "def search_first_zero(data):\n",
    "    d_max_p       = data[data['p'] == data['p'].max()]['d'].max()\n",
    "    d_max_p_index = data[data['p'] == data['p'].max()].index[0]\n",
    "    df_1 = data[:d_max_p_index]\n",
    "    df_2 = data[d_max_p_index:]\n",
    "    \n",
    "    d_max = df_1[df_1['p'] < 0.01].tail(1)['d'].values[0] * 1e-9\n",
    "    d_min = df_2[df_2['p'] < 0.01].head(1)['d'].values[0] * 1e-9\n",
    "    return [d_min, d_max]"
   ]
  },
  {
   "cell_type": "code",
   "execution_count": null,
   "metadata": {},
   "outputs": [],
   "source": []
  }
 ],
 "metadata": {
  "kernelspec": {
   "display_name": "Python 3",
   "language": "python",
   "name": "python3"
  },
  "language_info": {
   "codemirror_mode": {
    "name": "ipython",
    "version": 3
   },
   "file_extension": ".py",
   "mimetype": "text/x-python",
   "name": "python",
   "nbconvert_exporter": "python",
   "pygments_lexer": "ipython3",
   "version": "3.7.0"
  }
 },
 "nbformat": 4,
 "nbformat_minor": 2
}
